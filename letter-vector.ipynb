{
 "metadata": {
  "language_info": {
   "codemirror_mode": {
    "name": "ipython",
    "version": 3
   },
   "file_extension": ".py",
   "mimetype": "text/x-python",
   "name": "python",
   "nbconvert_exporter": "python",
   "pygments_lexer": "ipython3",
   "version": "3.9.4"
  },
  "orig_nbformat": 2,
  "kernelspec": {
   "name": "python394jvsc74a57bd0aee8b7b246df8f9039afb4144a1f6fd8d2ca17a180786b69acc140d282b71a49",
   "display_name": "Python 3.9.4 64-bit"
  },
  "metadata": {
   "interpreter": {
    "hash": "aee8b7b246df8f9039afb4144a1f6fd8d2ca17a180786b69acc140d282b71a49"
   }
  }
 },
 "nbformat": 4,
 "nbformat_minor": 2,
 "cells": [
  {
   "cell_type": "code",
   "execution_count": 35,
   "metadata": {},
   "outputs": [],
   "source": [
    "from dataclasses import dataclass, field\n",
    "from typing import Dict, List, Set, Tuple, Generator, Union\n",
    "from collections import namedtuple, Counter\n",
    "import json, string"
   ]
  },
  {
   "cell_type": "code",
   "execution_count": 36,
   "metadata": {},
   "outputs": [],
   "source": [
    "@dataclass\n",
    "class Node:\n",
    "    counts: Dict[int, 'Node'] = field(default_factory=dict, repr=False)"
   ]
  },
  {
   "cell_type": "code",
   "execution_count": null,
   "metadata": {},
   "outputs": [],
   "source": []
  },
  {
   "cell_type": "code",
   "execution_count": 37,
   "metadata": {},
   "outputs": [],
   "source": [
    "@dataclass\n",
    "class Leaf:\n",
    "    words: Set[str] = field(default_factory=set)"
   ]
  },
  {
   "cell_type": "code",
   "execution_count": 38,
   "metadata": {},
   "outputs": [],
   "source": [
    "@dataclass\n",
    "class VectorTrie:\n",
    "    root: Dict[int, Union[Dict, Set]] = field(default_factory=dict)\n",
    "\n",
    "    @staticmethod\n",
    "    def _letter_counts(word: str) -> Generator[int, None, None]:\n",
    "        counts = Counter(l for l in word)\n",
    "        for l in string.ascii_lowercase:\n",
    "            if l not in counts:\n",
    "                yield 0\n",
    "            else:\n",
    "                yield counts[l]\n",
    "\n",
    "    def add_word(self, word: str) -> None:\n",
    "        vector = self._letter_counts(word)\n",
    "        current: Node = self.root\n",
    "        for count in vector:\n",
    "            if count not in current:\n",
    "                current[count] = {}\n",
    "            current = current[count]\n",
    "        if 'words' not in current:\n",
    "            current['words'] = set()\n",
    "        current['words'].add(word)\n",
    "    \n",
    "    def add_words(self, words: List[str]) -> None:\n",
    "        for word in words:\n",
    "            self.add_word(word)\n",
    "        \n",
    "    def check_word(self, word: str) -> None:\n",
    "        vector = self._letter_counts(word)\n",
    "        current: Node = self.root\n",
    "        for count in vector:\n",
    "            if count not in current:\n",
    "                return False\n",
    "            current = current[count]\n",
    "        if word not in current['words']:\n",
    "            return False\n",
    "        return True\n",
    "\n",
    "    def get_words(self, letters: str):\n",
    "        words = set()\n",
    "        vector = tuple(self._letter_counts(letters))\n",
    "        to_check = [(self.root, 0)]\n",
    "        while to_check:\n",
    "            current, vec_index = to_check.pop()\n",
    "            if 'words' in current:\n",
    "                    words |= current['words']\n",
    "            else:\n",
    "                count = vector[vec_index]\n",
    "                for n in range(0, count + 1):\n",
    "                    if n in current:\n",
    "                        to_check.append((current[n], vec_index + 1))\n",
    "        return words\n"
   ]
  },
  {
   "cell_type": "code",
   "execution_count": 39,
   "metadata": {},
   "outputs": [],
   "source": [
    "trie = VectorTrie()"
   ]
  },
  {
   "cell_type": "code",
   "execution_count": 40,
   "metadata": {},
   "outputs": [
    {
     "output_type": "execute_result",
     "data": {
      "text/plain": [
       "VectorTrie(root={2: {1: {0: {0: {0: {0: {0: {0: {0: {0: {0: {0: {0: {0: {0: {0: {0: {0: {0: {0: {0: {0: {0: {0: {0: {0: {'words': {'aba'}}}}}}}}}}}}}}}}}}}}}}}}}}}})"
      ]
     },
     "metadata": {},
     "execution_count": 40
    }
   ],
   "source": [
    "trie.add_word('aba')\n",
    "trie"
   ]
  },
  {
   "cell_type": "code",
   "execution_count": 43,
   "metadata": {},
   "outputs": [
    {
     "output_type": "stream",
     "name": "stdout",
     "text": [
      "26 26\n{'words': {'aba', 'baa'}}\n26 26\n{'words': {'aa'}}\n26 26\n{'words': {'ba', 'ab'}}\n"
     ]
    },
    {
     "output_type": "execute_result",
     "data": {
      "text/plain": [
       "{'aa', 'ab', 'aba', 'ba', 'baa'}"
      ]
     },
     "metadata": {},
     "execution_count": 43
    }
   ],
   "source": [
    "trie.get_words('aba')"
   ]
  },
  {
   "cell_type": "code",
   "execution_count": 42,
   "metadata": {},
   "outputs": [],
   "source": [
    "with open('words.json', 'r') as f:\n",
    "    trie.add_words(json.load(f))"
   ]
  },
  {
   "cell_type": "code",
   "execution_count": 44,
   "metadata": {},
   "outputs": [
    {
     "output_type": "stream",
     "name": "stdout",
     "text": [
      "True\n"
     ]
    }
   ],
   "source": [
    "print(trie.check_word('aba'))"
   ]
  },
  {
   "cell_type": "code",
   "execution_count": 45,
   "metadata": {},
   "outputs": [
    {
     "output_type": "execute_result",
     "data": {
      "text/plain": [
       "0: {0: {1: {'words': {'zorro'}}}}}}}}}, 1: {1: {0: {0: {0: {0: {0: {0: {'words': {'rotors'}}}}}}}}, 0: {0: {0: {1: {0: {0: {0: {'words': {'sorrow'}}}}}, 0: {0: {0: {1: {'words': {'zorros'}}}}}}}}, 2: {2: {0: {0: {0: {0: {0: {'words': {'torturous'}}}}}}}}}, 2: {0: {0: {0: {1: {0: {0: {0: {'words': {'sorrows'}}}}}}}}}}}}, 1: {0: {0: {0: {0: {0: {0: {0: {0: {0: {0: {'words': {'oop', 'poo'}}}, 1: {0: {'words': {'yoop'}}}}}, 3: {0: {0: {0: {'words': {'powwow'}}}}}, 1: {0: {1: {0: {'words': {'woopy'}}}}}}, 1: {0: {0: {1: {0: {'words': {'poovy'}}}}}}}, 1: {0: {0: {0: {1: {0: {'words': {'poyou'}}}}}}}}, 2: {1: {0: {0: {0: {0: {0: {'words': {'outtop'}}}}}}}, 0: {0: {0: {0: {0: {0: {'words': {'potto'}}}}}}}}, 1: {0: {0: {0: {0: {0: {0: {'words': {'topo', 'poot'}}}}}}}}}, 1: {0: {0: {0: {0: {0: {0: {0: {'words': {'soop', 'oops', 'poos'}}}, 1: {0: {'words': {'yoops'}}}}}, 3: {0: {0: {0: {'words': {'powwows'}}}}}, 1: {0: {0: {0: {'words': {'woops', 'swoop'}}}, 1: {0: {'words': {'swoopy'}}}}}}}, 1: {0: {0: {0: {1: {0: {'words': {'poyous'}}}}}}}}, 2: {1: {0: {0: {0: {0: {0: {'words': {'outpost', 'outtops'}}}}}}}, 0: {0: {0: {0: {0: {0: {'words': {'pottos'}}}}}}}}, 1: {0: {0: {0: {0: {0: {0: {'words': {'poots', 'stoop', 'topos', 'spoot'}}}}}}}}}, 2: {2: {1: {0: {0: {0: {0: {0: {'words': {'outposts'}}}}}}}, 0: {0: {0: {0: {0: {0: {'words': {'tosspot'}}}}}}}}, 0: {0: {0: {0: {0: {0: {0: {'words': {'soops'}}}}}, 1: {0: {0: {0: {'words': {'swoops'}}}}}}}}, 1: {0: {0: {0: {0: {0: {0: {'words': {'spoots', 'stoops'}}}}}}}}}, 3: {2: {0: {0: {0: {0: {0: {0: {'words': {'tosspots'}}}}}}}}}}, 1: {0: {2: {1: {0: {0: {0: {0: {0: {'words': {'outport'}}}}}}}}, 1: {2: {0: {0: {0: {0: {0: {'words': {'outpour'}}}}}}}, 0: {0: {0: {0: {0: {0: {'words': {'troop', 'proto', 'poort'}}}}}}}, 1: {0: {0: {0: {0: {0: {'words': {'uproot'}}}}}}}}, 0: {0: {0: {0: {0: {0: {0: {'words': {'proo', 'poor', 'roop'}}}, 1: {0: {'words': {'roopy'}}}}}}}}, 3: {1: {0: {0: {0: {1: {0: {'words': {'puttyroot'}}}}}}}}}, 1: {2: {1: {0: {0: {0: {0: {0: {'words': {'outsport', 'outports'}}}}}}}}, 1: {2: {0: {0: {0: {0: {0: {'words': {'outpours'}}}}}}}, 0: {0: {0: {0: {0: {0: {'words': {'troops', 'poorts'}}}}}}, 1: {0: {0: {0: {0: {'words': {'provost'}}}}}}}, 1: {0: {0: {0: {0: {0: {'words': {'portous', 'uproots'}}}}}}}}, 0: {1: {0: {0: {0: {0: {0: {'words': {'porous'}}}}}}}, 0: {0: {0: {0: {0: {0: {'words': {'sopor', 'spoor', 'proso', 'roops'}}}}}}}}, 3: {1: {0: {0: {0: {1: {0: {'words': {'puttyroots'}}}}}}}}}, 2: {2: {1: {0: {0: {0: {0: {0: {'words': {'outsports'}}}}}}}}, 0: {0: {0: {0: {0: {0: {0: {'words': {'sopors', 'spoors', 'prosos'}}}}}}}, 1: {0: {0: {0: {0: {0: {'words': {'soursop'}}}}}}}}, 1: {0: {1: {0: {0: {0: {0: {'words': {'provosts'}}}}}}}, 2: {0: {0: {0: {0: {0: {'words': {'stuporous'}}}}}}}}}, 3: {0: {1: {0: {0: {0: {0: {0: {'words': {'soursops'}}}}}}}}}}, 2: {1: {1: {0: {1: {0: {0: {1: {0: {'words': {'provostry'}}}}}}, 0: {0: {0: {0: {0: {'words': {'torpors'}}}}}}}}}, 0: {1: {0: {0: {0: {0: {0: {0: {'words': {'torpor'}}}}}}}}}}}}, 2: {0: {0: {0: {0: {0: {0: {0: {0: {0: {0: {'words': {'poop', 'oppo'}}, 1: {'words': {'zoppo'}}}, 1: {0: {'words': {'poopy'}}}}}}}}, 1: {1: {0: {0: {0: {0: {0: {'words': {'popout'}}}}}}}}}, 1: {0: {0: {0: {0: {0: {0: {0: {'words': {'poops', 'oppos'}}}}}}}}, 1: {1: {0: {0: {0: {0: {0: {'words': {'popouts'}}}}}}}, 0: {0: {0: {0: {0: {0: {'words': {'postop'}}}}}}}}}, 2: {1: {0: {0: {0: {0: {0: {0: {'words': {'postops'}}}}}}}}}}, 1: {0: {1: {0: {0: {0: {0: {0: {0: {'words': {'troppo'}}}}}}}}}}}}}, 4: {1: {0: {1: {2: {0: {1: {0: {0: {0: {0: {0: {'words': {'oosporous'}}, 1: {'words': {'zoosporous'}}}}}}}}}, 0: {1: {0: {0: {0: {0: {0: {0: {'words': {'potoroo'}}}}}}}}}, 1: {1: {0: {0: {0: {0: {0: {0: {'words': {'potoroos'}}}}}}}}}}}}, 0: {0: {0: {0: {0: {0: {0: {0: {0: {0: {2: {'words': {'zoozoo'}}}}}}}}}, 1: {0: {0: {0: {0: {0: {0: {2: {'words': {'zoozoos'}}}}}}}}}}}}}, 1: {1: {0: {0: {0: {0: {0: {0: {0: {0: {0: {0: {'words': {'op', 'po'}}, 1: {'words': {'poz'}}, 2: {'words': {'pozz'}}}, 1: {2: {'words': {'pozzy'}}}}, 1: {0: {0: {'words': {'pox'}}}, 1: {0: {'words': {'poxy'}}}}}, 1: {0: {0: {0: {'words': {'pow', 'wop'}}}}}}}, 1: {0: {0: {0: {0: {0: {'words': {'upo', 'oup'}}}}}}}}, 1: {0: {0: {0: {0: {0: {0: {'words': {'top', 'pot', 'opt'}}}, 1: {0: {'words': {'typo', 'pyot'}}}}}}}, 1: {0: {0: {0: {0: {0: {'words': {'pout'}}}, 1: {0: {'words': {'pouty'}}}}}}}}, 2: {2: {0: {0: {0: {0: {0: {'words': {'putout', 'output'}}}}}}}, 0: {0: {0: {0: {0: {0: {'words': {'pott'}}}, 1: {0: {'words': {'typto', 'potty'}}}}}}}, 1: {0: {0: {0: {0: {0: {'words': {'putto'}}}}}}}}}, 1: {0: {0: {0: {0: {0: {0: {0: {'words': {'sop', 'pos', 'ops'}}}, 1: {0: {'words': {'posy'}}}}}, 1: {0: {0: {0: {'words': {'wops', 'pows', 'sowp', 'swop'}}}}}}}, 1: {0: {0: {0: {0: {0: {'words': {'opus', 'soup', 'oups'}}}, 1: {0: {'words': {'soupy'}}}}}}}}, 1: {0: {0: {0: {0: {0: {0: {'words': {'post', 'stop', 'tops', 'pots', 'spot', 'opts'}}}, 1: {0: {'words': {'potsy', 'pyots', 'typos'}}}}}, 1: {0: {0: {0: {'words': {'stowp', 'swopt'}}}}}}}, 1: {0: {0: {0: {0: {0: {'words': {'pouts', 'spout', 'stoup'}}}, 1: {0: {'words': {'spouty'}}}}}}}}, 2: {2: {0: {0: {0: {0: {0: {'words': {'outputs', 'putouts'}}}}}}}, 0: {0: {0: {0: {0: {0: {'words': {'potts', 'stopt'}}}, 1: {0: {'words': {'spotty', 'typtos'}}}}}}}}}, 2: {0: {0: {0: {0: {0: {0: {0: {'words': {'poss', 'sops'}}}, 1: {0: {'words': {'sysop'}}}}}, 1: {0: {0: {0: {'words': {'swops', 'sowps'}}}}}}}, 1: {0: {0: {0: {0: {0: {'words': {'soups'}}}}}}}}, 1: {0: {0: {0: {0: {0: {0: {'words': {'stops', 'spots', 'posts'}}}}}, 1: {0: {0: {0: {'words': {'stowps'}}}}}}}, 1: {0: {0: {0: {0: {0: {'words': {'uptoss', 'spouts', 'tossup', 'stoups'}}}}}}}}}, 3: {0: {0: {0: {0: {0: {1: {0: {'words': {'sysops'}}}}}}}}, 1: {1: {0: {0: {0: {0: {0: {'words': {'tossups'}}}}}}}}}}, 1: {0: {1: {0: {0: {0: {0: {0: {0: {'words': {'trop', 'port'}}}, 1: {0: {'words': {'porty'}}}}}}}}, 0: {0: {0: {0: {0: {1: {0: {'words': {'pory', 'ropy', 'pyro', 'yorp'}}}, 0: {0: {'words': {'pro'}}}}, 1: {1: {0: {'words': {'proxy'}}}}}, 1: {0: {0: {0: {'words': {'prow'}}}}}}}, 1: {0: {0: {0: {0: {0: {'words': {'pour', 'roup'}}}, 1: {0: {'words': {'roupy'}}}}}}}}, 2: {1: {0: {0: {0: {0: {0: {'words': {'prutot'}}}}}}}}}, 1: {1: {0: {0: {0: {0: {0: {0: {'words': {'sport', 'strop', 'prost', 'ports'}}}, 1: {0: {'words': {'sporty'}}}}}}}, 1: {0: {0: {0: {0: {0: {'words': {'stupor', 'stroup', 'sprout'}}}}}}}}, 0: {1: {0: {0: {0: {0: {0: {'words': {'pours', 'roups'}}}}}}}, 0: {0: {0: {0: {0: {0: {'words': {'pros'}}}, 1: {0: {'words': {'pyros', 'prosy', 'yorps'}}}}}, 1: {0: {0: {0: {'words': {'prows'}}}}}}}}}, 2: {0: {0: {0: {0: {0: {0: {0: {'words': {'pross'}}}}}}}}, 1: {0: {0: {0: {0: {0: {0: {'words': {'strops', 'sports'}}}}}}}, 1: {0: {0: {0: {0: {0: {'words': {'stupors', 'sprouts', 'stroups'}}}}}}}}}, 3: {0: {2: {0: {0: {0: {0: {0: {'words': {'sourpuss'}}}}}}}}}}}, 1: {0: {0: {0: {1: {0: {0: {0: {0: {0: {'words': {'quop'}}}}}}}}}, 1: {0: {1: {0: {0: {0: {0: {0: {'words': {'quops'}}}}}}}}}}}}, 0: {0: {1: {0: {0: {0: {0: {0: {0: {0: {0: {'words': {'or'}}}}, 1: {1: {0: {'words': {'oryx'}}}}}, 1: {0: {0: {0: {'words': {'row'}}}}}}, 1: {0: {0: {0: {0: {'words': {'vor'}}}}}, 1: {0: {0: {0: {'words': {'vrow'}}}}}}}, 1: {0: {0: {0: {0: {0: {'words': {'our'}}}, 1: {0: {'words': {'your'}}}}, 1: {0: {0: {'words': {'roux'}}}}}}, 1: {0: {0: {0: {0: {'words': {'vrou'}}}}}, 1: {0: {0: {0: {'words': {'vrouw'}}}}}}}}, 1: {0: {0: {0: {0: {0: {0: {'words': {'ort', 'rot', 'tor'}}}, 1: {0: {'words': {'troy', 'tory', 'tyro', 'ryot'}}}}}, 1: {0: {0: {0: {'words': {'trow', 'rowt', 'wort'}}}}}}, 1: {0: {0: {0: {0: {'words': {'vrot'}}}}}}}, 1: {0: {0: {0: {0: {0: {'words': {'tour', 'trou', 'rout'}}}, 1: {0: {'words': {'yourt'}}}}}}}}, 2: {0: {0: {0: {0: {0: {0: {'words': {'tort', 'trot'}}}}}}}, 1: {0: {0: {0: {0: {0: {'words': {'trout', 'tutor'}}}, 1: {0: {'words': {'tryout', 'trouty'}}}}}}}}}, 1: {0: {0: {0: {0: {0: {0: {0: {'words': {'ors'}}}, 1: {0: {'words': {'rosy'}}}}}, 1: {0: {0: {0: {'words': {'rows'}}}}}}, 1: {0: {0: {0: {0: {'words': {'vors'}}}}}, 1: {0: {0: {0: {'words': {'vrows'}}}}}}}, 1: {0: {0: {0: {0: {0: {'words': {'ours', 'sour'}}}, 1: {0: {'words': {'yours'}}}}}}, 1: {0: {0: {0: {0: {'words': {'vrous'}}}}}, 1: {0: {0: {0: {'words': {'vrouws'}}}}}}}}, 1: {0: {0: {0: {0: {0: {0: {'words': {'rots', 'sort', 'rost', 'tors', 'orts'}}}, 1: {0: {'words': {'royst', 'tyros', 'troys', 'ryots', 'story', 'stroy'}}}}}, 1: {0: {0: {0: {'words': {'worst', 'strow', 'trows', 'worts', 'rowts'}}}}}}}, 1: {0: {0: {0: {0: {0: {'words': {'sutor', 'roust', 'tours', 'routs', 'stour', 'torus'}}}, 1: {0: {'words': {'yourts', 'stoury'}}}}}}}}, 2: {1: {0: {0: {0: {0: {0: {'words': {'strout', 'trouts', 'tutors'}}}, 1: {0: {'words': {'tryouts'}}}}}}}, 2: {0: {0: {0: {0: {0: {'words': {'surtout'}}}}}}}, 0: {0: {0: {0: {0: {0: {'words': {'trots', 'torts'}}}}}}}}}, 2: {1: {0: {0: {0: {0: {0: {0: {'words': {'sorts', 'rosts'}}}, 1: {0: {'words': {'roysts', 'stroys'}}}}}, 1: {0: {0: {0: {'words': {'strows', 'worsts'}}}}}}}, 1: {0: {0: {0: {0: {0: {'words': {'sutors', 'rousts', 'tussor', 'stours'}}}}}}}}, 0: {1: {0: {0: {0: {0: {0: {'words': {'sours', 'sorus'}}}}}}}, 3: {0: {0: {0: {0: {0: {'words': {'usurous'}}}}}}}}, 2: {1: {0: {0: {0: {0: {0: {'words': {'strouts'}}}}}}}, 2: {0: {0: {0: {0: {0: {'words': {'surtouts'}}}}}}}}}, 3: {1: {1: {0: {0: {0: {0: {0: {'words': {'tussors'}}}}}}}}}}, 0: {1: {0: {0: {0: {0: {0: {0: {0: {'words': {'os', 'so'}}, 1: {'words': {'soz', 'zos'}}}, 1: {0: {'words': {'soy', 'oys'}}}}, 1: {0: {0: {'words': {'sox'}}}}}, 1: {0: {0: {0: {'words': {'wos', 'sow'}}}, 1: {0: {'words': {'yows'}}}}}, 2: {0: {0: {0: {'words': {'wows'}}}}}}, 1: {0: {0: {0: {0: {'words': {'sov'}}}}}, 1: {0: {0: {0: {'words': {'vows'}}}}}}}, 1: {0: {0: {0: {0: {0: {'words': {'sou', 'ous'}}}, 1: {1: {'words': {'soyuz'}}, 0: {'words': {'yous'}}}}}}}}, 1: {1: {0: {0: {0: {0: {0: {'words': {'outs', 'oust', 'sout'}}}, 1: {0: {'words': {'tousy'}}}}}}}, 0: {0: {1: {0: {0: {0: {'words': {'stow', 'twos', 'swot', 'wots', 'wost', 'tows', 'owts'}}}, 1: {0: {'words': {'towsy'}}}}}, 0: {0: {0: {0: {'words': {'sot'}}}, 1: {0: {'words': {'toys'}}}}}}}}, 2: {0: {0: {0: {0: {0: {0: {'words': {'stot', 'tots', 'tost'}}}, 1: {0: {'words': {'ytost'}}}}}, 1: {0: {1: {0: {'words': {'swotty'}}}, 0: {0: {'words': {'towts'}}}}}}}, 1: {0: {0: {0: {0: {0: {'words': {'touts', 'stout'}}}}}}}}, 3: {0: {0: {0: {0: {0: {0: {'words': {'stott'}}}, 1: {0: {'words': {'stotty'}}}}}}}}}, 0: {0: {1: {0: {0: {0: {0: {0: {'words': {'ou'}}}, 1: {0: {'words': {'you'}}}}}}}, 0: {0: {1: {0: {0: {0: {'words': {'wo', 'ow'}}}, 1: {0: {'words': {'yow'}}}}, 1: {0: {0: {'words': {'wox'}}}}}, 0: {1: {0: {0: {'words': {'ox'}}}, 1: {0: {'words': {'oxy'}}}}, 0: {1: {0: {'words': {'oy', 'yo'}}}, 0: {1: {'words': {'zo'}}}}}, 2: {0: {0: {0: {'words': {'wow'}}}}}}, 1: {1: {0: {0: {0: {'words': {'vow'}}}}}, 0: {1: {0: {0: {'words': {'vox'}}}}}}}}, 1: {1: {0: {0: {0: {0: {0: {'words': {'out'}}}, 1: {1: {'words': {'touzy'}}}}}}}, 0: {0: {1: {0: {0: {0: {'words': {'owt', 'tow', 'wot', 'two'}}}, 1: {0: {'words': {'towy'}}, 1: {'words': {'towzy'}}}}}, 0: {0: {0: {0: {'words': {'to'}}}, 1: {0: {'words': {'toy'}}}}}}}}, 2: {0: {0: {0: {0: {0: {0: {'words': {'tot'}}}}}, 1: {0: {0: {0: {'words': {'towt'}}}}}}}, 1: {0: {0: {0: {0: {0: {'words': {'tout'}}}}}}}}, 3: {0: {0: {0: {0: {1: {0: {'words': {'totty'}}}}}}}}}, 2: {1: {1: {0: {0: {0: {0: {0: {'words': {'souts', 'ousts'}}}}}}}, 0: {0: {0: {0: {0: {0: {'words': {'toss', 'sots'}}}, 1: {0: {'words': {'tossy'}}}}, 1: {1: {0: {'words': {'xystos'}}}}}, 1: {0: {0: {0: {'words': {'stows', 'swots'}}}}}}}}, 0: {0: {0: {0: {0: {0: {0: {'words': {'sos'}}}, 1: {0: {'words': {'soys'}}}}}, 1: {0: {0: {0: {'words': {'sows'}}}}}}, 1: {0: {0: {0: {0: {'words': {'sovs'}}}}}}}, 1: {0: {0: {0: {0: {0: {'words': {'sous'}}}}}}}}, 2: {0: {0: {0: {0: {0: {0: {'words': {'stots'}}}}}}}, 1: {0: {0: {0: {0: {0: {'words': {'stouts'}}}}}}}}, 3: {0: {0: {0: {0: {0: {0: {'words': {'stotts'}}}}}}}}}, 3: {0: {0: {0: {0: {0: {0: {0: {'words': {'soss'}}}}}}}}, 1: {0: {0: {0: {0: {0: {0: {'words': {'stoss'}}}}}}}}}}, 2: {0: {1: {0: {0: {0: {0: {0: {0: {'words': {'rort', 'torr'}}}, 1: {0: {'words': {'rorty'}}}}}}}}, 0: {0: {0: {0: {0: {1: {0: {'words': {'rory'}}}}}, 1: {0: {1: {0: {'words': {'worry'}}}}}}}}}, 1: {1: {0: {0: {0: {0: {0: {0: {'words': {'torrs', 'rorts'}}}}}}}}, 0: {0: {0: {0: {0: {1: {0: {'words': {'sorry'}}}}}}}}, 2: {1: {0: {0: {0: {0: {0: {'words': {'trustor'}}}}}}}}}, 3: {0: {3: {0: {0: {0: {0: {0: {'words': {'susurrous'}}}}}}}}}, 2: {2: {1: {0: {0: {0: {0: {0: {'words': {'trustors'}}}}}}}}}}}}, 2: {0: {0: {0: {0: {0: {0: {0: {0: {0: {0: {'words': {'pop'}}}}}}}}, 1: {1: {0: {0: {0: {0: {0: {'words': {'poupt'}}}}}}}, 0: {0: {0: {0: {1: {0: {'words': {'toppy'}}}}}}}}}, 1: {0: {0: {0: {0: {0: {0: {0: {'words': {'pops'}}}, 1: {0: {'words': {'psyop', 'soppy', 'popsy'}}}}}}}}}, 2: {0: {0: {0: {0: {0: {1: {0: {'words': {'psyops'}}}}}}}}}}, 1: {0: {0: {0: {0: {0: {0: {0: {0: {'words': {'prop'}}}}}}}}}, 1: {0: {0: {0: {0: {0: {0: {0: {'words': {'props'}}}}}}}, 1: {0: {0: {0: {1: {0: {'words': {'pyropus'}}}}}}}}, 1: {0: {0: {0: {0: {1: {0: {'words': {'stroppy'}}}}}}}, 1: {0: {0: {0: {0: {0: {'words': {'support'}}}}}}}}}, 2: {1: {1: {0: {0: {0: {0: {0: {'words': {'supports'}}}}}}}}}}, 2: {0: {1: {1: {0: {0: {0: {0: {0: {'words': {'purport'}}}}}}}}}, 1: {1: {1: {0: {0: {0: {0: {0: {'words': {'purports'}}}}}}}}}}}}, 3: {0: {0: {0: {0: {0: {0: {0: {0: {1: {0: {'words': {'poppy'}}}}}}}}}}, 1: {0: {0: {1: {0: {0: {0: {0: {0: {'words': {'upprop'}}}}}}}}}, 1: {0: {1: {0: {0: {0: {0: {0: {'words': {'upprops'}}}}}}}}}}}}}, 3: {1: {0: {1: {0: {1: {1: {0: {0: {0: {0: {0: {'words': {'outroop'}}}}}}}}}, 1: {1: {1: {0: {0: {0: {0: {0: {'words': {'outroops'}}}}}}}}}, 2: {0: {1: {0: {0: {0: {0: {0: {'words': {'soporous'}}}}}}}}}}, 0: {0: {1: {0: {0: {0: {0: {0: {0: {'words': {'potoo'}}}}}}}}}, 1: {1: {0: {0: {0: {0: {0: {0: {'words': {'potoos'}}}}}}}}}}}}, 0: {0: {1: {0: {2: {1: {0: {0: {0: {0: {0: {'words': {'outroot'}}}}}}}}}, 1: {2: {1: {0: {0: {0: {0: {0: {'words': {'outroots'}}}}}}}}}}}}}, 0: {1: {0: {1: {0: {0: {0: {0: {0: {0: {1: {0: {'words': {'pry'}}}}}}}, 1: {0: {0: {0: {0: {0: {'words': {'pur', 'urp'}}}}}}}}, 1: {1: {0: {0: {0: {1: {0: {'words': {'purty'}}}}}}}, 0: {0: {0: {0: {1: {0: {'words': {'tryp'}}}}}}}}}, 1: {0: {0: {0: {0: {0: {1: {0: {'words': {'spry', 'prys'}}}}}}}, 1: {0: {0: {0: {0: {0: {'words': {'spur', 'purs', 'urps'}}}, 1: {0: {'words': {'pursy', 'syrup'}}}, 2: {0: {'words': {'syrupy'}}}}}}}, 2: {0: {0: {0: {0: {0: {'words': {'usurp'}}}}}}}}, 1: {1: {0: {0: {0: {0: {0: {'words': {'spurt', 'turps'}}}, 1: {0: {'words': {'upryst'}}}}}}}, 0: {0: {0: {0: {1: {0: {'words': {'tryps'}}}}}}}}}, 2: {0: {1: {0: {0: {0: {0: {0: {'words': {'spurs'}}}, 1: {0: {'words': {'syrups'}}}}}}}, 2: {0: {0: {0: {0: {0: {'words': {'usurps'}}}}}}}}, 1: {1: {0: {0: {0: {0: {0: {'words': {'spurts'}}}}}}}}}}, 0: {2: {1: {0: {0: {0: {0: {0: {0: {'words': {'psst'}}}}}}}}, 0: {1: {0: {0: {0: {0: {0: {'words': {'sups', 'puss'}}}, 1: {0: {'words': {'pussy'}}}}}}}}}, 1: {1: {0: {0: {0: {0: {0: {0: {'words': {'pst'}}}}}}}, 1: {0: {0: {0: {0: {0: {'words': {'puts', 'tups'}}}}}}}}, 0: {1: {0: {0: {0: {0: {0: {'words': {'pus', 'ups', 'sup'}}}, 1: {0: {'words': {'yups', 'puys', 'upsy'}}}}}}}, 0: {0: {0: {0: {1: {0: {'words': {'spy'}}}}}}}}, 2: {1: {0: {0: {0: {0: {0: {'words': {'putts'}}}}}}}}}, 0: {1: {1: {0: {0: {0: {0: {0: {'words': {'put', 'tup'}}, 1: {'words': {'putz'}}}}}}}, 0: {0: {1: {0: {0: {0: {'words': {'twp'}}}}}, 0: {0: {2: {0: {'words': {'typy'}}}}}}}}, 2: {1: {0: {0: {0: {0: {0: {'words': {'putt'}}}, 1: {0: {'words': {'putty'}}}}}}}}, 0: {1: {0: {0: {0: {1: {0: {'words': {'yup', 'puy'}}}, 0: {0: {'words': {'up'}}}}}}}, 0: {0: {0: {1: {1: {0: {'words': {'pyx'}}}}}}}}}}, 2: {0: {0: {1: {0: {0: {0: {0: {0: {'words': {'purr', 'rurp'}}}}}}}}}, 1: {0: {1: {0: {0: {0: {0: {0: {'words': {'rurps', 'purrs'}}}, 1: {0: {'words': {'spurry'}}}}}}}}}}}}, 2: {0: {0: {0: {0: {1: {0: {0: {0: {0: {0: {'words': {'pup'}}}, 2: {0: {'words': {'yuppy'}}}}}}}, 2: {0: {0: {0: {0: {0: {'words': {'pupu'}}}}}}}}, 1: {0: {0: {0: {0: {1: {0: {'words': {'typp'}}}}}}}}}, 1: {0: {1: {0: {0: {0: {0: {0: {'words': {'pups'}}}}}}}, 2: {0: {0: {0: {0: {0: {'words': {'pupus'}}}}}}}}, 1: {0: {0: {0: {0: {1: {0: {'words': {'typps'}}}}}}}}}}, 1: {0: {0: {1: {0: {0: {0: {1: {0: {'words': {'purpy'}}}}}}}}}}}}, 3: {0: {0: {0: {0: {1: {0: {0: {0: {1: {0: {'words': {'puppy'}}}}}}}}}}}}, 0: {0: {2: {0: {0: {2: {0: {0: {0: {0: {0: {'words': {'ruru'}}}}}}}}, 1: {1: {0: {0: {0: {0: {0: {'words': {'turr'}}}}}}}}}, 1: {0: {2: {0: {0: {0: {0: {0: {'words': {'rurus'}}}}}}}}, 1: {1: {0: {0: {0: {0: {0: {'words': {'turrs'}}}}}}}}}, 3: {0: {3: {0: {0: {0: {0: {0: {'words': {'susurrus'}}}}}}}}}}, 1: {1: {1: {1: {0: {0: {0: {0: {0: {'words': {'rust', 'ruts'}}}, 1: {0: {'words': {'yurts', 'rusty'}}}}}, 1: {0: {0: {0: {'words': {'wurst'}}}}}}}}, 0: {1: {0: {0: {0: {1: {0: {'words': {'ryus'}}}, 0: {0: {'words': {'sur'}}}}}}}, 2: {0: {0: {0: {0: {0: {'words': {'urus'}}}, 1: {0: {'words': {'usury'}}}}}}}}, 2: {1: {0: {0: {0: {0: {0: {'words': {'trust', 'sturt', 'strut'}}}, 1: {0: {'words': {'trusty'}}}}}}}, 0: {0: {0: {0: {1: {0: {'words': {'tryst'}}}}}}}}}, 2: {1: {1: {0: {0: {0: {0: {0: {'words': {'truss', 'rusts'}}}}}, 1: {0: {0: {0: {'words': {'wursts'}}}}}}}, 2: {0: {0: {0: {0: {0: {'words': {'tussur'}}}}}}}}, 2: {1: {0: {0: {0: {0: {0: {'words': {'trusts', 'struts', 'sturts'}}}}}}}, 0: {0: {0: {0: {1: {0: {'words': {'trysts'}}}}}}}}}, 0: {1: {1: {0: {0: {0: {0: {0: {'words': {'rut'}}}, 1: {0: {'words': {'yurt'}}}}}}}, 0: {0: {0: {0: {1: {0: {'words': {'try'}}}}}}}}, 2: {1: {0: {0: {0: {1: {0: {'words': {'rutty'}}}}}}}}, 0: {1: {0: {0: {0: {1: {0: {'words': {'ryu'}}}, 0: {0: {'words': {'ur'}}}}}}}, 0: {0: {1: {0: {1: {0: {'words': {'wry'}}}}}}}}}, 3: {1: {2: {0: {0: {0: {0: {0: {'words': {'tussurs'}}}}}}}}}}, 0: {1: {1: {0: {0: {0: {0: {0: {0: {'words': {'st'}}}, 1: {0: {'words': {'sty'}}}}, 1: {1: {0: {'words': {'xyst'}}}}}}}, 1: {0: {0: {0: {0: {0: {'words': {'uts'}}}}}}}, 2: {0: {0: {0: {0: {0: {'words': {'utus'}}}}}}}}, 0: {0: {0: {1: {0: {1: {0: {'words': {'swy'}}}}}, 0: {0: {0: {3: {'words': {'zzzs'}}}}}}}, 1: {0: {0: {0: {0: {0: {'words': {'us'}}}, 1: {0: {'words': {'yus'}}}}}, 1: {0: {0: {0: {'words': {'wus'}}}}}}}, 2: {0: {0: {0: {1: {1: {'words': {'yuzus'}}}}}}}}, 2: {1: {0: {0: {0: {0: {0: {'words': {'tuts'}}}}}}}, 2: {0: {0: {0: {0: {0: {'words': {'tutus'}}}}}}}}}, 2: {0: {1: {0: {0: {0: {0: {0: {'words': {'sus'}}}}}, 1: {0: {0: {0: {'words': {'wuss'}}}, 1: {0: {'words': {'wussy'}}}}}}}, 2: {0: {0: {0: {0: {0: {'words': {'susu'}}}}}}}}, 1: {0: {0: {0: {1: {1: {0: {'words': {'xysts'}}}}}}}, 1: {0: {0: {1: {1: {0: {'words': {'xystus'}}}}}}}}}, 3: {0: {1: {0: {0: {0: {0: {0: {'words': {'suss'}}}}}}}, 2: {0: {0: {0: {0: {0: {'words': {'susus'}}}}}}}}}, 0: {2: {1: {0: {0: {0: {0: {0: {'words': {'tut'}}}}}}, 1: {0: {0: {1: {0: {'words': {'vutty'}}}}}}}, 2: {0: {0: {0: {0: {0: {'words': {'tutu'}}}}}}}}, 3: {1: {0: {0: {0: {1: {0: {'words': {'tutty'}}}}}}}}, 1: {1: {0: {0: {1: {0: {0: {'words': {'tux'}}}}, 0: {0: {2: {'words': {'tuzz'}}, 0: {'words': {'ut'}}}, 1: {1: {'words': {'yutz'}}}}}}}, 2: {0: {0: {0: {0: {0: {'words': {'utu'}}}}}}}}, 0: {1: {0: {1: {0: {0: {1: {'words': {'wuz'}}}}}, 0: {1: {0: {0: {'words': {'xu'}}}}, 0: {1: {0: {'words': {'yu'}}}, 0: {2: {'words': {'zuz'}}}}}}}, 2: {0: {0: {0: {1: {1: {'words': {'yuzu'}}}}}}}, 0: {0: {0: {0: {0: {3: {'words': {'zzz'}}}}}}}}}}}, 1: {0: {1: {0: {1: {0: {0: {0: {0: {0: {'words': {'suq'}}}}}}}}}, 2: {0: {1: {0: {0: {0: {0: {0: {'words': {'suqs'}}}}}}}}}}}}}}}}}}}}}}}}}}}, 6: {0: {0: {0: {0: {0: {0: {0: {0: {0: {0: {1: {1: {0: {0: {0: {0: {1: {1: {2: {0: {0: {0: {0: {0: {0: {'words': {'taramasalata'}}}}}}}}}, 2: {2: {0: {0: {0: {0: {0: {0: {'words': {'taramasalatas'}}}}}}}}}}}}}}}}}}}}}}}}}}}})"
      ]
     },
     "metadata": {},
     "execution_count": 45
    }
   ],
   "source": [
    "trie"
   ]
  },
  {
   "cell_type": "code",
   "execution_count": null,
   "metadata": {},
   "outputs": [],
   "source": []
  }
 ]
}