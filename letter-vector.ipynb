{
 "metadata": {
  "language_info": {
   "codemirror_mode": {
    "name": "ipython",
    "version": 3
   },
   "file_extension": ".py",
   "mimetype": "text/x-python",
   "name": "python",
   "nbconvert_exporter": "python",
   "pygments_lexer": "ipython3",
   "version": "3.9.4"
  },
  "orig_nbformat": 2,
  "kernelspec": {
   "name": "python394jvsc74a57bd0aee8b7b246df8f9039afb4144a1f6fd8d2ca17a180786b69acc140d282b71a49",
   "display_name": "Python 3.9.4 64-bit"
  },
  "metadata": {
   "interpreter": {
    "hash": "aee8b7b246df8f9039afb4144a1f6fd8d2ca17a180786b69acc140d282b71a49"
   }
  }
 },
 "nbformat": 4,
 "nbformat_minor": 2,
 "cells": [
  {
   "cell_type": "code",
   "execution_count": 96,
   "metadata": {},
   "outputs": [],
   "source": [
    "from dataclasses import dataclass, field\n",
    "from typing import Dict, List, Set\n",
    "from collections import namedtuple, Counter\n",
    "import json, string"
   ]
  },
  {
   "cell_type": "code",
   "execution_count": 97,
   "metadata": {},
   "outputs": [],
   "source": [
    "LetterVector = namedtuple('LetterVector', (l for l in string.ascii_lowercase), defaults=(0 for l in string.ascii_lowercase))"
   ]
  },
  {
   "cell_type": "code",
   "execution_count": 98,
   "metadata": {},
   "outputs": [],
   "source": [
    "words = [\"aa\", \"aah\", \"aahed\", \"aahing\", \"aahs\", \"aal\", \"aalii\", \"aaliis\", \"aals\", \"aardvark\", \"aardvarks\", \"aardwolf\", \"aardwolves\", \"aargh\", \"aarrgh\", \"aarrghh\", \"aarti\", \"aartis\", \"aas\", \"aasvogel\", \"aasvogels\", \"ab\", \"aba\", \"abac\", \"abaca\", \"abacas\", \"abaci\", \"aback\", \"abacs\", \"abacterial\", \"abactinal\", \"abactinally\", \"abactor\", \"abactors\", \"abacus\", \"abacuses\", \"abaft\", \"abaka\", \"abakas\", \"abalone\", \"abalones\", \"abamp\", \"abampere\", \"abamperes\", \"abamps\", \"aband\", \"abanded\", \"abanding\", \"abandon\", \"abandoned\", \"abandonedly\", \"abandonee\", \"abandonees\", \"abandoner\", \"abandoners\", \"abandoning\", \"abandonment\", \"abandonments\", \"abandons\", \"abandonware\", \"abandonwares\", \"abands\", \"abapical\", \"abas\", \"abase\"]"
   ]
  },
  {
   "cell_type": "code",
   "execution_count": 99,
   "metadata": {},
   "outputs": [],
   "source": [
    "vectors: List[LetterVector] = []\n",
    "for word in words:\n",
    "    vectors.append(LetterVector(**Counter(l for l in word)))"
   ]
  },
  {
   "cell_type": "code",
   "execution_count": 100,
   "metadata": {},
   "outputs": [],
   "source": [
    "@dataclass\n",
    "class Node:\n",
    "    letter: str = None\n",
    "    counts: Dict[int, 'Node'] = field(default_factory=dict)\n"
   ]
  },
  {
   "cell_type": "code",
   "execution_count": 101,
   "metadata": {},
   "outputs": [],
   "source": [
    "@dataclass\n",
    "class Leaf:\n",
    "    words: Set[str] = field(default_factory=set)"
   ]
  },
  {
   "cell_type": "code",
   "execution_count": 111,
   "metadata": {},
   "outputs": [],
   "source": [
    "@dataclass\n",
    "class VectorTrie:\n",
    "    root: Node = Node('a')\n",
    "\n",
    "    def add_word(self, word: str) -> None:\n",
    "        vector: LetterVector = self._get_vector(word)\n",
    "        current: Node = self.root\n",
    "        lnum: int = ord('a')\n",
    "        for letter in vector._fields[:-1]:\n",
    "            count = getattr(vector, letter)\n",
    "            if count not in current.counts:\n",
    "                current.counts[count] = Node(chr(lnum + 1))\n",
    "            lnum += 1\n",
    "            current = current.counts[count]\n",
    "        if vector.z not in current.counts:\n",
    "            current.counts[count] = set()\n",
    "        current.counts[count].add(word)\n",
    "    \n",
    "    def add_words(self, words: List[str]) -> None:\n",
    "        for word in words:\n",
    "            self.add_word(word)\n",
    "\n",
    "    @staticmethod\n",
    "    def _get_vector(word: str) -> LetterVector:\n",
    "        return LetterVector(**Counter(l for l in word))\n",
    "\n",
    "    def possible_words(self, bag: Dict[str, int]) -> Set[str]:\n",
    "        to_check = [self.root]\n",
    "            \n",
    "\n"
   ]
  },
  {
   "cell_type": "code",
   "execution_count": 112,
   "metadata": {},
   "outputs": [],
   "source": [
    "v = VectorTrie()\n",
    "v.add_words(words)"
   ]
  },
  {
   "cell_type": "code",
   "execution_count": 113,
   "metadata": {},
   "outputs": [
    {
     "output_type": "execute_result",
     "data": {
      "text/plain": [
       ": Node(letter='x', counts={0: Node(letter='y', counts={0: Node(letter='z', counts={0: {'aba'}})})})})})})}), 1: Node(letter='t', counts={0: Node(letter='u', counts={0: Node(letter='v', counts={0: Node(letter='w', counts={0: Node(letter='x', counts={0: Node(letter='y', counts={0: Node(letter='z', counts={0: {'abas'}})})})})})})})})})})})})}), 1: Node(letter='n', counts={0: Node(letter='o', counts={0: Node(letter='p', counts={1: Node(letter='q', counts={0: Node(letter='r', counts={0: Node(letter='s', counts={0: Node(letter='t', counts={0: Node(letter='u', counts={0: Node(letter='v', counts={0: Node(letter='w', counts={0: Node(letter='x', counts={0: Node(letter='y', counts={0: Node(letter='z', counts={0: {'abamp'}})})})})})})}), 1: Node(letter='t', counts={0: Node(letter='u', counts={0: Node(letter='v', counts={0: Node(letter='w', counts={0: Node(letter='x', counts={0: Node(letter='y', counts={0: Node(letter='z', counts={0: {'abamps'}})})})})})})})})})})})})})})})})})})})}), 1: Node(letter='g', counts={0: Node(letter='h', counts={0: Node(letter='i', counts={0: Node(letter='j', counts={0: Node(letter='k', counts={0: Node(letter='l', counts={0: Node(letter='m', counts={0: Node(letter='n', counts={0: Node(letter='o', counts={0: Node(letter='p', counts={0: Node(letter='q', counts={0: Node(letter='r', counts={0: Node(letter='s', counts={0: Node(letter='t', counts={1: Node(letter='u', counts={0: Node(letter='v', counts={0: Node(letter='w', counts={0: Node(letter='x', counts={0: Node(letter='y', counts={0: Node(letter='z', counts={0: {'abaft'}})})})})})})})})})})})})})})})})})})})})}), 1: Node(letter='f', counts={0: Node(letter='g', counts={0: Node(letter='h', counts={0: Node(letter='i', counts={0: Node(letter='j', counts={0: Node(letter='k', counts={0: Node(letter='l', counts={1: Node(letter='m', counts={0: Node(letter='n', counts={1: Node(letter='o', counts={1: Node(letter='p', counts={0: Node(letter='q', counts={0: Node(letter='r', counts={0: Node(letter='s', counts={0: Node(letter='t', counts={0: Node(letter='u', counts={0: Node(letter='v', counts={0: Node(letter='w', counts={0: Node(letter='x', counts={0: Node(letter='y', counts={0: Node(letter='z', counts={0: {'abalone'}})})})})})})}), 1: Node(letter='t', counts={0: Node(letter='u', counts={0: Node(letter='v', counts={0: Node(letter='w', counts={0: Node(letter='x', counts={0: Node(letter='y', counts={0: Node(letter='z', counts={0: {'abalones'}})})})})})})})})})})})})})}), 0: Node(letter='m', counts={0: Node(letter='n', counts={0: Node(letter='o', counts={0: Node(letter='p', counts={0: Node(letter='q', counts={0: Node(letter='r', counts={0: Node(letter='s', counts={1: Node(letter='t', counts={0: Node(letter='u', counts={0: Node(letter='v', counts={0: Node(letter='w', counts={0: Node(letter='x', counts={0: Node(letter='y', counts={0: Node(letter='z', counts={0: {'abase'}})})})})})})})})})})})})})})})})})})})})}), 2: Node(letter='f', counts={0: Node(letter='g', counts={0: Node(letter='h', counts={0: Node(letter='i', counts={0: Node(letter='j', counts={0: Node(letter='k', counts={0: Node(letter='l', counts={0: Node(letter='m', counts={1: Node(letter='n', counts={0: Node(letter='o', counts={0: Node(letter='p', counts={1: Node(letter='q', counts={0: Node(letter='r', counts={1: Node(letter='s', counts={0: Node(letter='t', counts={0: Node(letter='u', counts={0: Node(letter='v', counts={0: Node(letter='w', counts={0: Node(letter='x', counts={0: Node(letter='y', counts={0: Node(letter='z', counts={0: {'abampere'}})})})})})})}), 1: Node(letter='t', counts={0: Node(letter='u', counts={0: Node(letter='v', counts={0: Node(letter='w', counts={0: Node(letter='x', counts={0: Node(letter='y', counts={0: Node(letter='z', counts={0: {'abamperes'}})})})})})})})})})})})})})})})})})})})})})}), 1: Node(letter='e', counts={0: Node(letter='f', counts={0: Node(letter='g', counts={0: Node(letter='h', counts={0: Node(letter='i', counts={0: Node(letter='j', counts={0: Node(letter='k', counts={0: Node(letter='l', counts={0: Node(letter='m', counts={0: Node(letter='n', counts={1: Node(letter='o', counts={0: Node(letter='p', counts={0: Node(letter='q', counts={0: Node(letter='r', counts={0: Node(letter='s', counts={0: Node(letter='t', counts={0: Node(letter='u', counts={0: Node(letter='v', counts={0: Node(letter='w', counts={0: Node(letter='x', counts={0: Node(letter='y', counts={0: Node(letter='z', counts={0: {'aband'}})})})})})})}), 1: Node(letter='t', counts={0: Node(letter='u', counts={0: Node(letter='v', counts={0: Node(letter='w', counts={0: Node(letter='x', counts={0: Node(letter='y', counts={0: Node(letter='z', counts={0: {'abands'}})})})})})})})})})})})}), 2: Node(letter='o', counts={1: Node(letter='p', counts={0: Node(letter='q', counts={0: Node(letter='r', counts={0: Node(letter='s', counts={0: Node(letter='t', counts={0: Node(letter='u', counts={0: Node(letter='v', counts={0: Node(letter='w', counts={0: Node(letter='x', counts={0: Node(letter='y', counts={0: Node(letter='z', counts={0: {'abandon'}})})})})})})}), 1: Node(letter='t', counts={0: Node(letter='u', counts={0: Node(letter='v', counts={0: Node(letter='w', counts={0: Node(letter='x', counts={0: Node(letter='y', counts={0: Node(letter='z', counts={0: {'abandons'}})})})})})})})})})})})})})})})})})})}), 1: Node(letter='h', counts={0: Node(letter='i', counts={1: Node(letter='j', counts={0: Node(letter='k', counts={0: Node(letter='l', counts={0: Node(letter='m', counts={0: Node(letter='n', counts={2: Node(letter='o', counts={0: Node(letter='p', counts={0: Node(letter='q', counts={0: Node(letter='r', counts={0: Node(letter='s', counts={0: Node(letter='t', counts={0: Node(letter='u', counts={0: Node(letter='v', counts={0: Node(letter='w', counts={0: Node(letter='x', counts={0: Node(letter='y', counts={0: Node(letter='z', counts={0: {'abanding'}})})})})})})})})})})})}), 3: Node(letter='o', counts={1: Node(letter='p', counts={0: Node(letter='q', counts={0: Node(letter='r', counts={0: Node(letter='s', counts={0: Node(letter='t', counts={0: Node(letter='u', counts={0: Node(letter='v', counts={0: Node(letter='w', counts={0: Node(letter='x', counts={0: Node(letter='y', counts={0: Node(letter='z', counts={0: {'abandoning'}})})})})})})})})})})})})})})})})})})})})}), 2: Node(letter='f', counts={0: Node(letter='g', counts={0: Node(letter='h', counts={0: Node(letter='i', counts={0: Node(letter='j', counts={0: Node(letter='k', counts={0: Node(letter='l', counts={0: Node(letter='m', counts={0: Node(letter='n', counts={2: Node(letter='o', counts={1: Node(letter='p', counts={0: Node(letter='q', counts={0: Node(letter='r', counts={0: Node(letter='s', counts={0: Node(letter='t', counts={0: Node(letter='u', counts={0: Node(letter='v', counts={0: Node(letter='w', counts={0: Node(letter='x', counts={0: Node(letter='y', counts={0: Node(letter='z', counts={0: {'abandonee'}})})})})})})}), 1: Node(letter='t', counts={0: Node(letter='u', counts={0: Node(letter='v', counts={0: Node(letter='w', counts={0: Node(letter='x', counts={0: Node(letter='y', counts={0: Node(letter='z', counts={0: {'abandonees'}})})})})})})})})})})})})})})})})})})})})}), 1: Node(letter='f', counts={0: Node(letter='g', counts={0: Node(letter='h', counts={0: Node(letter='i', counts={0: Node(letter='j', counts={0: Node(letter='k', counts={0: Node(letter='l', counts={0: Node(letter='m', counts={0: Node(letter='n', counts={2: Node(letter='o', counts={1: Node(letter='p', counts={0: Node(letter='q', counts={0: Node(letter='r', counts={1: Node(letter='s', counts={0: Node(letter='t', counts={0: Node(letter='u', counts={0: Node(letter='v', counts={0: Node(letter='w', counts={0: Node(letter='x', counts={0: Node(letter='y', counts={0: Node(letter='z', counts={0: {'abandoner'}})})})})})})}), 1: Node(letter='t', counts={0: Node(letter='u', counts={0: Node(letter='v', counts={0: Node(letter='w', counts={0: Node(letter='x', counts={0: Node(letter='y', counts={0: Node(letter='z', counts={0: {'abandoners'}})})})})})})})})})})})})}), 1: Node(letter='n', counts={3: Node(letter='o', counts={1: Node(letter='p', counts={0: Node(letter='q', counts={0: Node(letter='r', counts={0: Node(letter='s', counts={0: Node(letter='t', counts={1: Node(letter='u', counts={0: Node(letter='v', counts={0: Node(letter='w', counts={0: Node(letter='x', counts={0: Node(letter='y', counts={0: Node(letter='z', counts={0: {'abandonment'}})})})})})})}), 1: Node(letter='t', counts={1: Node(letter='u', counts={0: Node(letter='v', counts={0: Node(letter='w', counts={0: Node(letter='x', counts={0: Node(letter='y', counts={0: Node(letter='z', counts={0: {'abandonments'}})})})})})})})})})})})})})})})})})})})})})}), 2: Node(letter='e', counts={1: Node(letter='f', counts={0: Node(letter='g', counts={0: Node(letter='h', counts={0: Node(letter='i', counts={0: Node(letter='j', counts={0: Node(letter='k', counts={0: Node(letter='l', counts={0: Node(letter='m', counts={0: Node(letter='n', counts={1: Node(letter='o', counts={0: Node(letter='p', counts={0: Node(letter='q', counts={0: Node(letter='r', counts={0: Node(letter='s', counts={0: Node(letter='t', counts={0: Node(letter='u', counts={0: Node(letter='v', counts={0: Node(letter='w', counts={0: Node(letter='x', counts={0: Node(letter='y', counts={0: Node(letter='z', counts={0: {'abanded'}})})})})})})})})})})})}), 2: Node(letter='o', counts={1: Node(letter='p', counts={0: Node(letter='q', counts={0: Node(letter='r', counts={0: Node(letter='s', counts={0: Node(letter='t', counts={0: Node(letter='u', counts={0: Node(letter='v', counts={0: Node(letter='w', counts={0: Node(letter='x', counts={0: Node(letter='y', counts={0: Node(letter='z', counts={0: {'abandoned'}})})})})})})})})})})})})})}), 1: Node(letter='m', counts={0: Node(letter='n', counts={2: Node(letter='o', counts={1: Node(letter='p', counts={0: Node(letter='q', counts={0: Node(letter='r', counts={0: Node(letter='s', counts={0: Node(letter='t', counts={0: Node(letter='u', counts={0: Node(letter='v', counts={0: Node(letter='w', counts={0: Node(letter='x', counts={0: Node(letter='y', counts={1: Node(letter='z', counts={1: {'abandonedly'}})})})})})})})})})})})})})})})})})})})})})})}), 1: Node(letter='d', counts={0: Node(letter='e', counts={0: Node(letter='f', counts={0: Node(letter='g', counts={0: Node(letter='h', counts={0: Node(letter='i', counts={0: Node(letter='j', counts={0: Node(letter='k', counts={0: Node(letter='l', counts={0: Node(letter='m', counts={0: Node(letter='n', counts={0: Node(letter='o', counts={0: Node(letter='p', counts={0: Node(letter='q', counts={0: Node(letter='r', counts={0: Node(letter='s', counts={0: Node(letter='t', counts={0: Node(letter='u', counts={0: Node(letter='v', counts={0: Node(letter='w', counts={0: Node(letter='x', counts={0: Node(letter='y', counts={0: Node(letter='z', counts={0: {'abac'}})})})})})})}), 1: Node(letter='t', counts={0: Node(letter='u', counts={0: Node(letter='v', counts={0: Node(letter='w', counts={0: Node(letter='x', counts={0: Node(letter='y', counts={0: Node(letter='z', counts={0: {'abacs'}})})})})}), 1: Node(letter='v', counts={0: Node(letter='w', counts={0: Node(letter='x', counts={0: Node(letter='y', counts={0: Node(letter='z', counts={0: {'abacus'}})})})})})})})})})})}), 1: Node(letter='p', counts={0: Node(letter='q', counts={0: Node(letter='r', counts={1: Node(letter='s', counts={0: Node(letter='t', counts={1: Node(letter='u', counts={0: Node(letter='v', counts={0: Node(letter='w', counts={0: Node(letter='x', counts={0: Node(letter='y', counts={0: Node(letter='z', counts={0: {'abactor'}})})})})})})}), 1: Node(letter='t', counts={1: Node(letter='u', counts={0: Node(letter='v', counts={0: Node(letter='w', counts={0: Node(letter='x', counts={0: Node(letter='y', counts={0: Node(letter='z', counts={0: {'abactors'}})})})})})})})})})})})})})})}), 1: Node(letter='l', counts={0: Node(letter='m', counts={0: Node(letter='n', counts={0: Node(letter='o', counts={0: Node(letter='p', counts={0: Node(letter='q', counts={0: Node(letter='r', counts={0: Node(letter='s', counts={0: Node(letter='t', counts={0: Node(letter='u', counts={0: Node(letter='v', counts={0: Node(letter='w', counts={0: Node(letter='x', counts={0: Node(letter='y', counts={0: Node(letter='z', counts={0: {'aback'}})})})})})})})})})})})})})})})})}), 1: Node(letter='j', counts={0: Node(letter='k', counts={0: Node(letter='l', counts={0: Node(letter='m', counts={0: Node(letter='n', counts={0: Node(letter='o', counts={0: Node(letter='p', counts={0: Node(letter='q', counts={0: Node(letter='r', counts={0: Node(letter='s', counts={0: Node(letter='t', counts={0: Node(letter='u', counts={0: Node(letter='v', counts={0: Node(letter='w', counts={0: Node(letter='x', counts={0: Node(letter='y', counts={0: Node(letter='z', counts={0: {'abaci'}})})})})})})})})})})})})})})})})})})})})}), 1: Node(letter='f', counts={0: Node(letter='g', counts={0: Node(letter='h', counts={0: Node(letter='i', counts={0: Node(letter='j', counts={0: Node(letter='k', counts={0: Node(letter='l', counts={0: Node(letter='m', counts={0: Node(letter='n', counts={0: Node(letter='o', counts={0: Node(letter='p', counts={0: Node(letter='q', counts={0: Node(letter='r', counts={0: Node(letter='s', counts={2: Node(letter='t', counts={0: Node(letter='u', counts={1: Node(letter='v', counts={0: Node(letter='w', counts={0: Node(letter='x', counts={0: Node(letter='y', counts={0: Node(letter='z', counts={0: {'abacuses'}})})})})})})})})})})})})})})})})})})})})})})})})}), 3: Node(letter='b', counts={0: Node(letter='c', counts={0: Node(letter='d', counts={1: Node(letter='e', counts={0: Node(letter='f', counts={0: Node(letter='g', counts={0: Node(letter='h', counts={0: Node(letter='i', counts={0: Node(letter='j', counts={0: Node(letter='k', counts={1: Node(letter='l', counts={0: Node(letter='m', counts={0: Node(letter='n', counts={0: Node(letter='o', counts={0: Node(letter='p', counts={0: Node(letter='q', counts={0: Node(letter='r', counts={2: Node(letter='s', counts={0: Node(letter='t', counts={0: Node(letter='u', counts={0: Node(letter='v', counts={1: Node(letter='w', counts={0: Node(letter='x', counts={0: Node(letter='y', counts={0: Node(letter='z', counts={0: {'aardvark'}})})})})})})}), 1: Node(letter='t', counts={0: Node(letter='u', counts={0: Node(letter='v', counts={1: Node(letter='w', counts={0: Node(letter='x', counts={0: Node(letter='y', counts={0: Node(letter='z', counts={0: {'aardvarks'}})})})})})})})})})})})})})})})})})})})})})})})}), 1: Node(letter='c', counts={1: Node(letter='d', counts={0: Node(letter='e', counts={0: Node(letter='f', counts={0: Node(letter='g', counts={0: Node(letter='h', counts={0: Node(letter='i', counts={0: Node(letter='j', counts={0: Node(letter='k', counts={0: Node(letter='l', counts={0: Node(letter='m', counts={0: Node(letter='n', counts={0: Node(letter='o', counts={0: Node(letter='p', counts={0: Node(letter='q', counts={0: Node(letter='r', counts={0: Node(letter='s', counts={0: Node(letter='t', counts={0: Node(letter='u', counts={0: Node(letter='v', counts={0: Node(letter='w', counts={0: Node(letter='x', counts={0: Node(letter='y', counts={0: Node(letter='z', counts={0: {'abaca'}})})})})})})}), 1: Node(letter='t', counts={0: Node(letter='u', counts={0: Node(letter='v', counts={0: Node(letter='w', counts={0: Node(letter='x', counts={0: Node(letter='y', counts={0: Node(letter='z', counts={0: {'abacas'}})})})})})})})})})})})})})})})})}), 1: Node(letter='j', counts={0: Node(letter='k', counts={0: Node(letter='l', counts={1: Node(letter='m', counts={0: Node(letter='n', counts={1: Node(letter='o', counts={0: Node(letter='p', counts={0: Node(letter='q', counts={0: Node(letter='r', counts={0: Node(letter='s', counts={0: Node(letter='t', counts={1: Node(letter='u', counts={0: Node(letter='v', counts={0: Node(letter='w', counts={0: Node(letter='x', counts={0: Node(letter='y', counts={0: Node(letter='z', counts={0: {'abactinal'}})})})})})})})})})})})}), 0: Node(letter='o', counts={0: Node(letter='p', counts={1: Node(letter='q', counts={0: Node(letter='r', counts={0: Node(letter='s', counts={0: Node(letter='t', counts={0: Node(letter='u', counts={0: Node(letter='v', counts={0: Node(letter='w', counts={0: Node(letter='x', counts={0: Node(letter='y', counts={0: Node(letter='z', counts={0: {'abapical'}})})})})})})})})})})})})})}), 2: Node(letter='m', counts={0: Node(letter='n', counts={1: Node(letter='o', counts={0: Node(letter='p', counts={0: Node(letter='q', counts={0: Node(letter='r', counts={0: Node(letter='s', counts={0: Node(letter='t', counts={1: Node(letter='u', counts={0: Node(letter='v', counts={0: Node(letter='w', counts={0: Node(letter='x', counts={0: Node(letter='y', counts={1: Node(letter='z', counts={1: {'abactinally'}})})})})})})})})})})})})})})})})})})})})}), 1: Node(letter='f', counts={0: Node(letter='g', counts={0: Node(letter='h', counts={0: Node(letter='i', counts={1: Node(letter='j', counts={0: Node(letter='k', counts={0: Node(letter='l', counts={1: Node(letter='m', counts={0: Node(letter='n', counts={0: Node(letter='o', counts={0: Node(letter='p', counts={0: Node(letter='q', counts={0: Node(letter='r', counts={1: Node(letter='s', counts={0: Node(letter='t', counts={1: Node(letter='u', counts={0: Node(letter='v', counts={0: Node(letter='w', counts={0: Node(letter='x', counts={0: Node(letter='y', counts={0: Node(letter='z', counts={0: {'abacterial'}})})})})})})})})})})})})})})})})})})})})})})}), 0: Node(letter='d', counts={0: Node(letter='e', counts={0: Node(letter='f', counts={0: Node(letter='g', counts={0: Node(letter='h', counts={0: Node(letter='i', counts={0: Node(letter='j', counts={0: Node(letter='k', counts={1: Node(letter='l', counts={0: Node(letter='m', counts={0: Node(letter='n', counts={0: Node(letter='o', counts={0: Node(letter='p', counts={0: Node(letter='q', counts={0: Node(letter='r', counts={0: Node(letter='s', counts={0: Node(letter='t', counts={0: Node(letter='u', counts={0: Node(letter='v', counts={0: Node(letter='w', counts={0: Node(letter='x', counts={0: Node(letter='y', counts={0: Node(letter='z', counts={0: {'abaka'}})})})})})})}), 1: Node(letter='t', counts={0: Node(letter='u', counts={0: Node(letter='v', counts={0: Node(letter='w', counts={0: Node(letter='x', counts={0: Node(letter='y', counts={0: Node(letter='z', counts={0: {'abakas'}})})})})})})})})})})})})})})})})})})})})})}), 1: Node(letter='e', counts={1: Node(letter='f', counts={0: Node(letter='g', counts={0: Node(letter='h', counts={0: Node(letter='i', counts={0: Node(letter='j', counts={0: Node(letter='k', counts={0: Node(letter='l', counts={0: Node(letter='m', counts={0: Node(letter='n', counts={2: Node(letter='o', counts={1: Node(letter='p', counts={0: Node(letter='q', counts={0: Node(letter='r', counts={1: Node(letter='s', counts={0: Node(letter='t', counts={0: Node(letter='u', counts={0: Node(letter='v', counts={0: Node(letter='w', counts={1: Node(letter='x', counts={0: Node(letter='y', counts={0: Node(letter='z', counts={0: {'abandonware'}})})})})})})}), 1: Node(letter='t', counts={0: Node(letter='u', counts={0: Node(letter='v', counts={0: Node(letter='w', counts={1: Node(letter='x', counts={0: Node(letter='y', counts={0: Node(letter='z', counts={0: {'abandonwares'}})})})})})})})})})})})})})})})})})})})})})})})})}), 1: Node(letter='b', counts={1: Node(letter='c', counts={0: Node(letter='d', counts={0: Node(letter='e', counts={0: Node(letter='f', counts={0: Node(letter='g', counts={0: Node(letter='h', counts={0: Node(letter='i', counts={0: Node(letter='j', counts={0: Node(letter='k', counts={0: Node(letter='l', counts={0: Node(letter='m', counts={0: Node(letter='n', counts={0: Node(letter='o', counts={0: Node(letter='p', counts={0: Node(letter='q', counts={0: Node(letter='r', counts={0: Node(letter='s', counts={0: Node(letter='t', counts={0: Node(letter='u', counts={0: Node(letter='v', counts={0: Node(letter='w', counts={0: Node(letter='x', counts={0: Node(letter='y', counts={0: Node(letter='z', counts={0: {'ab'}})})})})})})})})})})})})})})})})})})})})})})})})})}))"
      ]
     },
     "metadata": {},
     "execution_count": 113
    }
   ],
   "source": [
    "v"
   ]
  },
  {
   "cell_type": "code",
   "execution_count": null,
   "metadata": {},
   "outputs": [],
   "source": []
  }
 ]
}