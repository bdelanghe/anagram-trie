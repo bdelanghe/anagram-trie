{
 "metadata": {
  "language_info": {
   "codemirror_mode": {
    "name": "ipython",
    "version": 3
   },
   "file_extension": ".py",
   "mimetype": "text/x-python",
   "name": "python",
   "nbconvert_exporter": "python",
   "pygments_lexer": "ipython3",
   "version": "3.9.4"
  },
  "orig_nbformat": 2,
  "kernelspec": {
   "name": "python394jvsc74a57bd0aee8b7b246df8f9039afb4144a1f6fd8d2ca17a180786b69acc140d282b71a49",
   "display_name": "Python 3.9.4 64-bit"
  },
  "metadata": {
   "interpreter": {
    "hash": "aee8b7b246df8f9039afb4144a1f6fd8d2ca17a180786b69acc140d282b71a49"
   }
  }
 },
 "nbformat": 4,
 "nbformat_minor": 2,
 "cells": [
  {
   "cell_type": "code",
   "execution_count": 33,
   "metadata": {},
   "outputs": [],
   "source": [
    "from dataclasses import dataclass, field\n",
    "from typing import Dict, List\n",
    "from collections import namedtuple, Counter\n",
    "import json, string\n",
    "\n",
    "LetterVector = namedtuple('LetterVector', (l for l in string.ascii_lowercase), defaults=(0 for l in string.ascii_lowercase))"
   ]
  },
  {
   "cell_type": "code",
   "execution_count": 35,
   "metadata": {},
   "outputs": [],
   "source": [
    "words = [\"aa\", \"aah\", \"aahed\", \"aahing\", \"aahs\", \"aal\", \"aalii\", \"aaliis\", \"aals\", \"aardvark\", \"aardvarks\", \"aardwolf\", \"aardwolves\", \"aargh\", \"aarrgh\", \"aarrghh\", \"aarti\", \"aartis\", \"aas\", \"aasvogel\", \"aasvogels\", \"ab\", \"aba\", \"abac\", \"abaca\", \"abacas\", \"abaci\", \"aback\", \"abacs\", \"abacterial\", \"abactinal\", \"abactinally\", \"abactor\", \"abactors\", \"abacus\", \"abacuses\", \"abaft\", \"abaka\", \"abakas\", \"abalone\", \"abalones\", \"abamp\", \"abampere\", \"abamperes\", \"abamps\", \"aband\", \"abanded\", \"abanding\", \"abandon\", \"abandoned\", \"abandonedly\", \"abandonee\", \"abandonees\", \"abandoner\", \"abandoners\", \"abandoning\", \"abandonment\", \"abandonments\", \"abandons\", \"abandonware\", \"abandonwares\", \"abands\", \"abapical\", \"abas\", \"abase\"]"
   ]
  },
  {
   "cell_type": "code",
   "execution_count": 40,
   "metadata": {},
   "outputs": [
    {
     "output_type": "execute_result",
     "data": {
      "text/plain": [
       "LetterVector(a=dict_items([('a', 2)]), b=0, c=0, d=0, e=0, f=0, g=0, h=0, i=0, j=0, k=0, l=0, m=0, n=0, o=0, p=0, q=0, r=0, s=0, t=0, u=0, v=0, w=0, x=0, y=0, z=0)"
      ]
     },
     "metadata": {},
     "execution_count": 40
    }
   ],
   "source": [
    "LetterVector(Counter(l for l in words[0]).items())"
   ]
  },
  {
   "cell_type": "code",
   "execution_count": null,
   "metadata": {},
   "outputs": [],
   "source": []
  }
 ]
}