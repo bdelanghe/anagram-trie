{
 "metadata": {
  "language_info": {
   "codemirror_mode": {
    "name": "ipython",
    "version": 3
   },
   "file_extension": ".py",
   "mimetype": "text/x-python",
   "name": "python",
   "nbconvert_exporter": "python",
   "pygments_lexer": "ipython3",
   "version": "3.9.4"
  },
  "orig_nbformat": 2,
  "kernelspec": {
   "name": "python394jvsc74a57bd0aee8b7b246df8f9039afb4144a1f6fd8d2ca17a180786b69acc140d282b71a49",
   "display_name": "Python 3.9.4 64-bit"
  },
  "metadata": {
   "interpreter": {
    "hash": "aee8b7b246df8f9039afb4144a1f6fd8d2ca17a180786b69acc140d282b71a49"
   }
  }
 },
 "nbformat": 4,
 "nbformat_minor": 2,
 "cells": [
  {
   "cell_type": "code",
   "execution_count": 1,
   "metadata": {},
   "outputs": [],
   "source": [
    "from dataclasses import dataclass, field\n",
    "from typing import Dict, List, Set\n",
    "from collections import namedtuple, Counter\n",
    "import json, string"
   ]
  },
  {
   "cell_type": "code",
   "execution_count": 2,
   "metadata": {},
   "outputs": [],
   "source": [
    "LetterVector = namedtuple('LetterVector', (l for l in string.ascii_lowercase), defaults=(0 for l in string.ascii_lowercase))"
   ]
  },
  {
   "cell_type": "code",
   "execution_count": 3,
   "metadata": {},
   "outputs": [],
   "source": [
    "words = [\"aa\", \"aah\", \"aahed\", \"aahing\", \"aahs\", \"aal\", \"aalii\", \"aaliis\", \"aals\", \"aardvark\", \"aardvarks\", \"aardwolf\", \"aardwolves\", \"aargh\", \"aarrgh\", \"aarrghh\", \"aarti\", \"aartis\", \"aas\", \"aasvogel\", \"aasvogels\", \"ab\", \"aba\", \"abac\", \"abaca\", \"abacas\", \"abaci\", \"aback\", \"abacs\", \"abacterial\", \"abactinal\", \"abactinally\", \"abactor\", \"abactors\", \"abacus\", \"abacuses\", \"abaft\", \"abaka\", \"abakas\", \"abalone\", \"abalones\", \"abamp\", \"abampere\", \"abamperes\", \"abamps\", \"aband\", \"abanded\", \"abanding\", \"abandon\", \"abandoned\", \"abandonedly\", \"abandonee\", \"abandonees\", \"abandoner\", \"abandoners\", \"abandoning\", \"abandonment\", \"abandonments\", \"abandons\", \"abandonware\", \"abandonwares\", \"abands\", \"abapical\", \"abas\", \"abase\"]"
   ]
  },
  {
   "cell_type": "code",
   "execution_count": 4,
   "metadata": {},
   "outputs": [],
   "source": [
    "@dataclass\n",
    "class Node:\n",
    "    letter: str = None\n",
    "    counts: Dict[int, 'Node'] = field(default_factory=dict, repr=False)"
   ]
  },
  {
   "cell_type": "code",
   "execution_count": 5,
   "metadata": {},
   "outputs": [],
   "source": [
    "@dataclass\n",
    "class Leaf:\n",
    "    words: Set[str] = field(default_factory=set)"
   ]
  },
  {
   "cell_type": "code",
   "execution_count": 6,
   "metadata": {},
   "outputs": [],
   "source": [
    "@dataclass\n",
    "class VectorTrie:\n",
    "    root: Node = Node('a')\n",
    "\n",
    "    def add_word(self, word: str) -> None:\n",
    "        vector: LetterVector = self._get_vector(word)\n",
    "        current: Node = self.root\n",
    "        lnum: int = ord('a')\n",
    "        for letter in vector._fields[:-1]:\n",
    "            count = getattr(vector, letter)\n",
    "            if count not in current.counts:\n",
    "                current.counts[count] = Node(chr(lnum + 1))\n",
    "            lnum += 1\n",
    "            current = current.counts[count]\n",
    "        if vector.z not in current.counts:\n",
    "            current.counts[count] = set()\n",
    "        current.counts[count].add(word)\n",
    "    \n",
    "    def add_words(self, words: List[str]) -> None:\n",
    "        for word in words:\n",
    "            self.add_word(word)\n",
    "\n",
    "    @staticmethod\n",
    "    def _get_vector(word: str) -> LetterVector:\n",
    "        return LetterVector(**Counter(l for l in word))\n",
    "\n",
    "    def possible_words(self, bag: Dict[str, int]) -> Set[str]:\n",
    "        to_check = [self.root]\n",
    "            \n",
    "\n"
   ]
  },
  {
   "cell_type": "code",
   "execution_count": 7,
   "metadata": {},
   "outputs": [],
   "source": [
    "trie = VectorTrie()"
   ]
  },
  {
   "cell_type": "code",
   "execution_count": 12,
   "metadata": {},
   "outputs": [],
   "source": [
    "with open('words.json', 'r') as f:\n",
    "    trie.add_words(json.load(f))"
   ]
  },
  {
   "cell_type": "code",
   "execution_count": 14,
   "metadata": {},
   "outputs": [
    {
     "output_type": "execute_result",
     "data": {
      "text/plain": [
       "s={0: Node(letter='z', counts={0: {'outroops'}})})})})})})}), 2: Node(letter='t', counts={0: Node(letter='u', counts={1: Node(letter='v', counts={0: Node(letter='w', counts={0: Node(letter='x', counts={0: Node(letter='y', counts={0: Node(letter='z', counts={0: {'soporous'}})})})})})})})}), 0: Node(letter='s', counts={0: Node(letter='t', counts={1: Node(letter='u', counts={0: Node(letter='v', counts={0: Node(letter='w', counts={0: Node(letter='x', counts={0: Node(letter='y', counts={0: Node(letter='z', counts={0: {'potoo'}})})})})})})}), 1: Node(letter='t', counts={1: Node(letter='u', counts={0: Node(letter='v', counts={0: Node(letter='w', counts={0: Node(letter='x', counts={0: Node(letter='y', counts={0: Node(letter='z', counts={0: {'potoos'}})})})})})})})})})}), 0: Node(letter='q', counts={0: Node(letter='r', counts={1: Node(letter='s', counts={0: Node(letter='t', counts={2: Node(letter='u', counts={1: Node(letter='v', counts={0: Node(letter='w', counts={0: Node(letter='x', counts={0: Node(letter='y', counts={0: Node(letter='z', counts={0: {'outroot'}})})})})})})}), 1: Node(letter='t', counts={2: Node(letter='u', counts={1: Node(letter='v', counts={0: Node(letter='w', counts={0: Node(letter='x', counts={0: Node(letter='y', counts={0: Node(letter='z', counts={0: {'outroots'}})})})})})})})})})})}), 0: Node(letter='p', counts={1: Node(letter='q', counts={0: Node(letter='r', counts={1: Node(letter='s', counts={0: Node(letter='t', counts={0: Node(letter='u', counts={0: Node(letter='v', counts={0: Node(letter='w', counts={0: Node(letter='x', counts={0: Node(letter='y', counts={1: Node(letter='z', counts={1: {'pry'}})})})})}), 1: Node(letter='v', counts={0: Node(letter='w', counts={0: Node(letter='x', counts={0: Node(letter='y', counts={0: Node(letter='z', counts={0: {'pur', 'urp'}})})})})})}), 1: Node(letter='u', counts={1: Node(letter='v', counts={0: Node(letter='w', counts={0: Node(letter='x', counts={0: Node(letter='y', counts={1: Node(letter='z', counts={1: {'purty'}})})})})}), 0: Node(letter='v', counts={0: Node(letter='w', counts={0: Node(letter='x', counts={0: Node(letter='y', counts={1: Node(letter='z', counts={1: {'tryp'}})})})})})})}), 1: Node(letter='t', counts={0: Node(letter='u', counts={0: Node(letter='v', counts={0: Node(letter='w', counts={0: Node(letter='x', counts={0: Node(letter='y', counts={1: Node(letter='z', counts={1: {'spry'}})})})})}), 1: Node(letter='v', counts={0: Node(letter='w', counts={0: Node(letter='x', counts={0: Node(letter='y', counts={0: Node(letter='z', counts={0: {'urps', 'spur', 'purs'}}), 1: Node(letter='z', counts={1: {'syrup'}}), 2: Node(letter='z', counts={2: {'syrupy'}})})})})}), 2: Node(letter='v', counts={0: Node(letter='w', counts={0: Node(letter='x', counts={0: Node(letter='y', counts={0: Node(letter='z', counts={0: {'usurp'}})})})})})}), 1: Node(letter='u', counts={1: Node(letter='v', counts={0: Node(letter='w', counts={0: Node(letter='x', counts={0: Node(letter='y', counts={0: Node(letter='z', counts={0: {'turps', 'spurt'}}), 1: Node(letter='z', counts={1: {'upryst'}})})})})}), 0: Node(letter='v', counts={0: Node(letter='w', counts={0: Node(letter='x', counts={0: Node(letter='y', counts={1: Node(letter='z', counts={1: {'tryps'}})})})})})})}), 2: Node(letter='t', counts={0: Node(letter='u', counts={1: Node(letter='v', counts={0: Node(letter='w', counts={0: Node(letter='x', counts={0: Node(letter='y', counts={0: Node(letter='z', counts={0: {'spurs'}}), 1: Node(letter='z', counts={1: {'syrups'}})})})})}), 2: Node(letter='v', counts={0: Node(letter='w', counts={0: Node(letter='x', counts={0: Node(letter='y', counts={0: Node(letter='z', counts={0: {'usurps'}})})})})})}), 1: Node(letter='u', counts={1: Node(letter='v', counts={0: Node(letter='w', counts={0: Node(letter='x', counts={0: Node(letter='y', counts={0: Node(letter='z', counts={0: {'spurts'}})})})})})})})}), 0: Node(letter='s', counts={2: Node(letter='t', counts={1: Node(letter='u', counts={0: Node(letter='v', counts={0: Node(letter='w', counts={0: Node(letter='x', counts={0: Node(letter='y', counts={0: Node(letter='z', counts={0: {'psst'}})})})})})}), 0: Node(letter='u', counts={1: Node(letter='v', counts={0: Node(letter='w', counts={0: Node(letter='x', counts={0: Node(letter='y', counts={0: Node(letter='z', counts={0: {'sups', 'puss'}}), 1: Node(letter='z', counts={1: {'pussy'}})})})})})})}), 1: Node(letter='t', counts={1: Node(letter='u', counts={0: Node(letter='v', counts={0: Node(letter='w', counts={0: Node(letter='x', counts={0: Node(letter='y', counts={0: Node(letter='z', counts={0: {'pst'}})})})})}), 1: Node(letter='v', counts={0: Node(letter='w', counts={0: Node(letter='x', counts={0: Node(letter='y', counts={0: Node(letter='z', counts={0: {'puts', 'tups'}})})})})})}), 0: Node(letter='u', counts={1: Node(letter='v', counts={0: Node(letter='w', counts={0: Node(letter='x', counts={0: Node(letter='y', counts={0: Node(letter='z', counts={0: {'pus', 'ups', 'sup'}}), 1: Node(letter='z', counts={1: {'yups'}})})})})}), 0: Node(letter='v', counts={0: Node(letter='w', counts={0: Node(letter='x', counts={0: Node(letter='y', counts={1: Node(letter='z', counts={1: {'spy'}})})})})})}), 2: Node(letter='u', counts={1: Node(letter='v', counts={0: Node(letter='w', counts={0: Node(letter='x', counts={0: Node(letter='y', counts={0: Node(letter='z', counts={0: {'putts'}})})})})})})}), 0: Node(letter='t', counts={1: Node(letter='u', counts={1: Node(letter='v', counts={0: Node(letter='w', counts={0: Node(letter='x', counts={0: Node(letter='y', counts={0: Node(letter='z', counts={0: {'putz', 'tup'}})})})})}), 0: Node(letter='v', counts={0: Node(letter='w', counts={1: Node(letter='x', counts={0: Node(letter='y', counts={0: Node(letter='z', counts={0: {'twp'}})})}), 0: Node(letter='x', counts={0: Node(letter='y', counts={2: Node(letter='z', counts={2: {'typy'}})})})})})}), 2: Node(letter='u', counts={1: Node(letter='v', counts={0: Node(letter='w', counts={0: Node(letter='x', counts={0: Node(letter='y', counts={0: Node(letter='z', counts={0: {'putt'}}), 1: Node(letter='z', counts={1: {'putty'}})})})})})}), 0: Node(letter='u', counts={1: Node(letter='v', counts={0: Node(letter='w', counts={0: Node(letter='x', counts={0: Node(letter='y', counts={1: Node(letter='z', counts={1: {'yup'}}), 0: Node(letter='z', counts={0: {'up'}})})})})}), 0: Node(letter='v', counts={0: Node(letter='w', counts={0: Node(letter='x', counts={1: Node(letter='y', counts={1: Node(letter='z', counts={1: {'pyx'}})})})})})})})}), 2: Node(letter='s', counts={0: Node(letter='t', counts={0: Node(letter='u', counts={1: Node(letter='v', counts={0: Node(letter='w', counts={0: Node(letter='x', counts={0: Node(letter='y', counts={0: Node(letter='z', counts={0: {'rurp', 'purr'}})})})})})})}), 1: Node(letter='t', counts={0: Node(letter='u', counts={1: Node(letter='v', counts={0: Node(letter='w', counts={0: Node(letter='x', counts={0: Node(letter='y', counts={0: Node(letter='z', counts={0: {'purrs', 'rurps'}}), 1: Node(letter='z', counts={1: {'spurry'}})})})})})})})})})}), 2: Node(letter='q', counts={0: Node(letter='r', counts={0: Node(letter='s', counts={0: Node(letter='t', counts={0: Node(letter='u', counts={1: Node(letter='v', counts={0: Node(letter='w', counts={0: Node(letter='x', counts={0: Node(letter='y', counts={0: Node(letter='z', counts={0: {'pup'}}), 2: Node(letter='z', counts={2: {'yuppy'}})})})})}), 2: Node(letter='v', counts={0: Node(letter='w', counts={0: Node(letter='x', counts={0: Node(letter='y', counts={0: Node(letter='z', counts={0: {'pupu'}})})})})})}), 1: Node(letter='u', counts={0: Node(letter='v', counts={0: Node(letter='w', counts={0: Node(letter='x', counts={0: Node(letter='y', counts={1: Node(letter='z', counts={1: {'typp'}})})})})})})}), 1: Node(letter='t', counts={0: Node(letter='u', counts={1: Node(letter='v', counts={0: Node(letter='w', counts={0: Node(letter='x', counts={0: Node(letter='y', counts={0: Node(letter='z', counts={0: {'pups'}})})})})}), 2: Node(letter='v', counts={0: Node(letter='w', counts={0: Node(letter='x', counts={0: Node(letter='y', counts={0: Node(letter='z', counts={0: {'pupus'}})})})})})}), 1: Node(letter='u', counts={0: Node(letter='v', counts={0: Node(letter='w', counts={0: Node(letter='x', counts={0: Node(letter='y', counts={1: Node(letter='z', counts={1: {'typps'}})})})})})})})}), 1: Node(letter='s', counts={0: Node(letter='t', counts={0: Node(letter='u', counts={1: Node(letter='v', counts={0: Node(letter='w', counts={0: Node(letter='x', counts={0: Node(letter='y', counts={1: Node(letter='z', counts={1: {'purpy'}})})})})})})})})})}), 3: Node(letter='q', counts={0: Node(letter='r', counts={0: Node(letter='s', counts={0: Node(letter='t', counts={0: Node(letter='u', counts={1: Node(letter='v', counts={0: Node(letter='w', counts={0: Node(letter='x', counts={0: Node(letter='y', counts={1: Node(letter='z', counts={1: {'puppy'}})})})})})})})})})}), 0: Node(letter='q', counts={0: Node(letter='r', counts={2: Node(letter='s', counts={0: Node(letter='t', counts={0: Node(letter='u', counts={2: Node(letter='v', counts={0: Node(letter='w', counts={0: Node(letter='x', counts={0: Node(letter='y', counts={0: Node(letter='z', counts={0: {'ruru'}})})})})})}), 1: Node(letter='u', counts={1: Node(letter='v', counts={0: Node(letter='w', counts={0: Node(letter='x', counts={0: Node(letter='y', counts={0: Node(letter='z', counts={0: {'turr'}})})})})})})}), 1: Node(letter='t', counts={0: Node(letter='u', counts={2: Node(letter='v', counts={0: Node(letter='w', counts={0: Node(letter='x', counts={0: Node(letter='y', counts={0: Node(letter='z', counts={0: {'rurus'}})})})})})}), 1: Node(letter='u', counts={1: Node(letter='v', counts={0: Node(letter='w', counts={0: Node(letter='x', counts={0: Node(letter='y', counts={0: Node(letter='z', counts={0: {'turrs'}})})})})})})}), 3: Node(letter='t', counts={0: Node(letter='u', counts={3: Node(letter='v', counts={0: Node(letter='w', counts={0: Node(letter='x', counts={0: Node(letter='y', counts={0: Node(letter='z', counts={0: {'susurrus'}})})})})})})})}), 1: Node(letter='s', counts={1: Node(letter='t', counts={1: Node(letter='u', counts={1: Node(letter='v', counts={0: Node(letter='w', counts={0: Node(letter='x', counts={0: Node(letter='y', counts={0: Node(letter='z', counts={0: {'ruts', 'rust'}}), 1: Node(letter='z', counts={1: {'yurts'}})})}), 1: Node(letter='x', counts={0: Node(letter='y', counts={0: Node(letter='z', counts={0: {'wurst'}})})})})})}), 0: Node(letter='u', counts={1: Node(letter='v', counts={0: Node(letter='w', counts={0: Node(letter='x', counts={0: Node(letter='y', counts={1: Node(letter='z', counts={1: {'ryus'}}), 0: Node(letter='z', counts={0: {'sur'}})})})})}), 2: Node(letter='v', counts={0: Node(letter='w', counts={0: Node(letter='x', counts={0: Node(letter='y', counts={0: Node(letter='z', counts={0: {'urus'}}), 1: Node(letter='z', counts={1: {'usury'}})})})})})}), 2: Node(letter='u', counts={1: Node(letter='v', counts={0: Node(letter='w', counts={0: Node(letter='x', counts={0: Node(letter='y', counts={0: Node(letter='z', counts={0: {'sturt', 'trust', 'strut'}}), 1: Node(letter='z', counts={1: {'trusty'}})})})})}), 0: Node(letter='v', counts={0: Node(letter='w', counts={0: Node(letter='x', counts={0: Node(letter='y', counts={1: Node(letter='z', counts={1: {'tryst'}})})})})})})}), 2: Node(letter='t', counts={1: Node(letter='u', counts={1: Node(letter='v', counts={0: Node(letter='w', counts={0: Node(letter='x', counts={0: Node(letter='y', counts={0: Node(letter='z', counts={0: {'truss', 'rusts'}})})}), 1: Node(letter='x', counts={0: Node(letter='y', counts={0: Node(letter='z', counts={0: {'wursts'}})})})})}), 2: Node(letter='v', counts={0: Node(letter='w', counts={0: Node(letter='x', counts={0: Node(letter='y', counts={0: Node(letter='z', counts={0: {'tussur'}})})})})})}), 2: Node(letter='u', counts={1: Node(letter='v', counts={0: Node(letter='w', counts={0: Node(letter='x', counts={0: Node(letter='y', counts={0: Node(letter='z', counts={0: {'sturts', 'struts', 'trusts'}})})})})}), 0: Node(letter='v', counts={0: Node(letter='w', counts={0: Node(letter='x', counts={0: Node(letter='y', counts={1: Node(letter='z', counts={1: {'trysts'}})})})})})})}), 0: Node(letter='t', counts={1: Node(letter='u', counts={1: Node(letter='v', counts={0: Node(letter='w', counts={0: Node(letter='x', counts={0: Node(letter='y', counts={0: Node(letter='z', counts={0: {'rut'}}), 1: Node(letter='z', counts={1: {'yurt'}})})})})}), 0: Node(letter='v', counts={0: Node(letter='w', counts={0: Node(letter='x', counts={0: Node(letter='y', counts={1: Node(letter='z', counts={1: {'try'}})})})})})}), 2: Node(letter='u', counts={1: Node(letter='v', counts={0: Node(letter='w', counts={0: Node(letter='x', counts={0: Node(letter='y', counts={1: Node(letter='z', counts={1: {'rutty'}})})})})})}), 0: Node(letter='u', counts={1: Node(letter='v', counts={0: Node(letter='w', counts={0: Node(letter='x', counts={0: Node(letter='y', counts={1: Node(letter='z', counts={1: {'ryu'}}), 0: Node(letter='z', counts={0: {'ur'}})})})})}), 0: Node(letter='v', counts={0: Node(letter='w', counts={1: Node(letter='x', counts={0: Node(letter='y', counts={1: Node(letter='z', counts={1: {'wry'}})})})})})})}), 3: Node(letter='t', counts={1: Node(letter='u', counts={2: Node(letter='v', counts={0: Node(letter='w', counts={0: Node(letter='x', counts={0: Node(letter='y', counts={0: Node(letter='z', counts={0: {'tussurs'}})})})})})})})}), 0: Node(letter='s', counts={1: Node(letter='t', counts={1: Node(letter='u', counts={0: Node(letter='v', counts={0: Node(letter='w', counts={0: Node(letter='x', counts={0: Node(letter='y', counts={0: Node(letter='z', counts={0: {'st'}}), 1: Node(letter='z', counts={1: {'sty'}})}), 1: Node(letter='y', counts={1: Node(letter='z', counts={1: {'xyst'}})})})})}), 1: Node(letter='v', counts={0: Node(letter='w', counts={0: Node(letter='x', counts={0: Node(letter='y', counts={0: Node(letter='z', counts={0: {'uts'}})})})})}), 2: Node(letter='v', counts={0: Node(letter='w', counts={0: Node(letter='x', counts={0: Node(letter='y', counts={0: Node(letter='z', counts={0: {'utus'}})})})})})}), 0: Node(letter='u', counts={0: Node(letter='v', counts={0: Node(letter='w', counts={1: Node(letter='x', counts={0: Node(letter='y', counts={1: Node(letter='z', counts={1: {'swy'}})})}), 0: Node(letter='x', counts={0: Node(letter='y', counts={0: Node(letter='z', counts={0: {'zzzs'}})})})})}), 1: Node(letter='v', counts={0: Node(letter='w', counts={0: Node(letter='x', counts={0: Node(letter='y', counts={0: Node(letter='z', counts={0: {'us'}}), 1: Node(letter='z', counts={1: {'yus'}})})}), 1: Node(letter='x', counts={0: Node(letter='y', counts={0: Node(letter='z', counts={0: {'wus'}})})})})}), 2: Node(letter='v', counts={0: Node(letter='w', counts={0: Node(letter='x', counts={0: Node(letter='y', counts={1: Node(letter='z', counts={1: {'yuzus'}})})})})})}), 2: Node(letter='u', counts={1: Node(letter='v', counts={0: Node(letter='w', counts={0: Node(letter='x', counts={0: Node(letter='y', counts={0: Node(letter='z', counts={0: {'tuts'}})})})})}), 2: Node(letter='v', counts={0: Node(letter='w', counts={0: Node(letter='x', counts={0: Node(letter='y', counts={0: Node(letter='z', counts={0: {'tutus'}})})})})})})}), 2: Node(letter='t', counts={0: Node(letter='u', counts={1: Node(letter='v', counts={0: Node(letter='w', counts={0: Node(letter='x', counts={0: Node(letter='y', counts={0: Node(letter='z', counts={0: {'sus'}})})}), 1: Node(letter='x', counts={0: Node(letter='y', counts={0: Node(letter='z', counts={0: {'wuss'}}), 1: Node(letter='z', counts={1: {'wussy'}})})})})}), 2: Node(letter='v', counts={0: Node(letter='w', counts={0: Node(letter='x', counts={0: Node(letter='y', counts={0: Node(letter='z', counts={0: {'susu'}})})})})})}), 1: Node(letter='u', counts={0: Node(letter='v', counts={0: Node(letter='w', counts={0: Node(letter='x', counts={1: Node(letter='y', counts={1: Node(letter='z', counts={1: {'xysts'}})})})})}), 1: Node(letter='v', counts={0: Node(letter='w', counts={0: Node(letter='x', counts={1: Node(letter='y', counts={1: Node(letter='z', counts={1: {'xystus'}})})})})})})}), 3: Node(letter='t', counts={0: Node(letter='u', counts={1: Node(letter='v', counts={0: Node(letter='w', counts={0: Node(letter='x', counts={0: Node(letter='y', counts={0: Node(letter='z', counts={0: {'suss'}})})})})}), 2: Node(letter='v', counts={0: Node(letter='w', counts={0: Node(letter='x', counts={0: Node(letter='y', counts={0: Node(letter='z', counts={0: {'susus'}})})})})})})}), 0: Node(letter='t', counts={2: Node(letter='u', counts={1: Node(letter='v', counts={0: Node(letter='w', counts={0: Node(letter='x', counts={0: Node(letter='y', counts={0: Node(letter='z', counts={0: {'tut'}})})})}), 1: Node(letter='w', counts={0: Node(letter='x', counts={0: Node(letter='y', counts={1: Node(letter='z', counts={1: {'vutty'}})})})})}), 2: Node(letter='v', counts={0: Node(letter='w', counts={0: Node(letter='x', counts={0: Node(letter='y', counts={0: Node(letter='z', counts={0: {'tutu'}})})})})})}), 3: Node(letter='u', counts={1: Node(letter='v', counts={0: Node(letter='w', counts={0: Node(letter='x', counts={0: Node(letter='y', counts={1: Node(letter='z', counts={1: {'tutty'}})})})})})}), 1: Node(letter='u', counts={1: Node(letter='v', counts={0: Node(letter='w', counts={0: Node(letter='x', counts={1: Node(letter='y', counts={0: Node(letter='z', counts={0: {'tux'}})}), 0: Node(letter='y', counts={0: Node(letter='z', counts={0: {'ut', 'tuzz'}}), 1: Node(letter='z', counts={1: {'yutz'}})})})})}), 2: Node(letter='v', counts={0: Node(letter='w', counts={0: Node(letter='x', counts={0: Node(letter='y', counts={0: Node(letter='z', counts={0: {'utu'}})})})})})}), 0: Node(letter='u', counts={1: Node(letter='v', counts={0: Node(letter='w', counts={1: Node(letter='x', counts={0: Node(letter='y', counts={0: Node(letter='z', counts={0: {'wuz'}})})}), 0: Node(letter='x', counts={1: Node(letter='y', counts={0: Node(letter='z', counts={0: {'xu'}})}), 0: Node(letter='y', counts={1: Node(letter='z', counts={1: {'yu'}}), 0: Node(letter='z', counts={0: {'zuz'}})})})})}), 2: Node(letter='v', counts={0: Node(letter='w', counts={0: Node(letter='x', counts={0: Node(letter='y', counts={1: Node(letter='z', counts={1: {'yuzu'}})})})})}), 0: Node(letter='v', counts={0: Node(letter='w', counts={0: Node(letter='x', counts={0: Node(letter='y', counts={0: Node(letter='z', counts={0: {'zzz'}})})})})})})})})}), 1: Node(letter='r', counts={0: Node(letter='s', counts={1: Node(letter='t', counts={0: Node(letter='u', counts={1: Node(letter='v', counts={0: Node(letter='w', counts={0: Node(letter='x', counts={0: Node(letter='y', counts={0: Node(letter='z', counts={0: {'suq'}})})})})})})}), 2: Node(letter='t', counts={0: Node(letter='u', counts={1: Node(letter='v', counts={0: Node(letter='w', counts={0: Node(letter='x', counts={0: Node(letter='y', counts={0: Node(letter='z', counts={0: {'suqs'}})})})})})})})})})})})})})})})})})})})})})})})})}), 6: Node(letter='b', counts={0: Node(letter='c', counts={0: Node(letter='d', counts={0: Node(letter='e', counts={0: Node(letter='f', counts={0: Node(letter='g', counts={0: Node(letter='h', counts={0: Node(letter='i', counts={0: Node(letter='j', counts={0: Node(letter='k', counts={0: Node(letter='l', counts={1: Node(letter='m', counts={1: Node(letter='n', counts={0: Node(letter='o', counts={0: Node(letter='p', counts={0: Node(letter='q', counts={0: Node(letter='r', counts={1: Node(letter='s', counts={1: Node(letter='t', counts={2: Node(letter='u', counts={0: Node(letter='v', counts={0: Node(letter='w', counts={0: Node(letter='x', counts={0: Node(letter='y', counts={0: Node(letter='z', counts={0: {'taramasalata'}})})})})})})}), 2: Node(letter='t', counts={2: Node(letter='u', counts={0: Node(letter='v', counts={0: Node(letter='w', counts={0: Node(letter='x', counts={0: Node(letter='y', counts={0: Node(letter='z', counts={0: {'taramasalatas'}})})})})})})})})})})})})})})})})})})})})})})})})})})"
      ]
     },
     "metadata": {},
     "execution_count": 14
    }
   ],
   "source": [
    "trie.root"
   ]
  },
  {
   "cell_type": "code",
   "execution_count": null,
   "metadata": {},
   "outputs": [],
   "source": []
  }
 ]
}